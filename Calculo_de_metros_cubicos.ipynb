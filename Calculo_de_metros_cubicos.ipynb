{
  "nbformat": 4,
  "nbformat_minor": 0,
  "metadata": {
    "colab": {
      "provenance": [],
      "authorship_tag": "ABX9TyNvOQINZDgZh5yV3A3GBJup",
      "include_colab_link": true
    },
    "kernelspec": {
      "name": "python3",
      "display_name": "Python 3"
    },
    "language_info": {
      "name": "python"
    }
  },
  "cells": [
    {
      "cell_type": "markdown",
      "metadata": {
        "id": "view-in-github",
        "colab_type": "text"
      },
      "source": [
        "<a href=\"https://colab.research.google.com/github/Fab4rici0/Conversosr-PDF-XLS-para-JSON/blob/main/Calculo_de_metros_cubicos.ipynb\" target=\"_parent\"><img src=\"https://colab.research.google.com/assets/colab-badge.svg\" alt=\"Open In Colab\"/></a>"
      ]
    },
    {
      "cell_type": "code",
      "execution_count": 2,
      "metadata": {
        "colab": {
          "base_uri": "https://localhost:8080/"
        },
        "id": "fAwsVzDQKAZR",
        "outputId": "dd5c4b80-f670-40a4-bdcd-f090011cc2a7"
      },
      "outputs": [
        {
          "output_type": "stream",
          "name": "stdout",
          "text": [
            "Digite o comprimento da laje (em metros): 24\n",
            "Digite a largura da laje (em metros): 5\n",
            "Digite a espessura da laje (em metros): 12\n",
            "Você precisará de 1440.0 metros cúbicos de concreto.\n"
          ]
        }
      ],
      "source": [
        "def calcular_volume_concreto(comprimento, largura, espessura):\n",
        "    \"\"\"\n",
        "    Calcula o volume de concreto necessário para uma laje.\n",
        "\n",
        "    :param comprimento: Comprimento da laje em metros.\n",
        "    :param largura: Largura da laje em metros.\n",
        "    :param espessura: Espessura da laje em metros.\n",
        "    :return: Volume de concreto necessário em metros cúbicos.\n",
        "    \"\"\"\n",
        "    return comprimento * largura * espessura\n",
        "\n",
        "# Exemplo de uso\n",
        "comprimento = float(input(\"Digite o comprimento da laje (em metros): \"))\n",
        "largura = float(input(\"Digite a largura da laje (em metros): \"))\n",
        "espessura = float(input(\"Digite a espessura da laje (em metros): \"))\n",
        "\n",
        "volume = calcular_volume_concreto(comprimento, largura, espessura)\n",
        "print(f\"Você precisará de {volume} metros cúbicos de concreto.\")"
      ]
    }
  ]
}